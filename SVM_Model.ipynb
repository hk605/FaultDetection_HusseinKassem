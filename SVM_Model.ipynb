{
 "cells": [
  {
   "cell_type": "markdown",
   "id": "6c5223a7",
   "metadata": {},
   "source": [
    "# Deploying SVM Model"
   ]
  },
  {
   "cell_type": "markdown",
   "id": "2250dc6a",
   "metadata": {},
   "source": [
    "## Step 1: Import Libraries"
   ]
  },
  {
   "cell_type": "code",
   "execution_count": 1,
   "id": "f4ec964e",
   "metadata": {},
   "outputs": [],
   "source": [
    "import numpy as np\n",
    "import torch\n",
    "from torch import nn\n",
    "from torch.utils.data import Dataset, DataLoader\n",
    "from sklearn.model_selection import train_test_split\n",
    "from sklearn.preprocessing import StandardScaler\n",
    "from sklearn.svm import SVC\n",
    "from sklearn.metrics import classification_report, confusion_matrix\n",
    "import matplotlib.pyplot as plt\n",
    "import segyio"
   ]
  },
  {
   "cell_type": "markdown",
   "id": "32be2e68",
   "metadata": {},
   "source": [
    "## Step 2: Load and Prepare Data"
   ]
  },
  {
   "cell_type": "code",
   "execution_count": 2,
   "id": "10558370",
   "metadata": {},
   "outputs": [],
   "source": [
    "# Note: the the xline header info location is at segyio.su.cdpx [181]\n",
    "def segy2numpy(filename: str) -> np.array:\n",
    "    with segyio.open(filename, xline=181) as segyfile:\n",
    "        return segyio.tools.cube(segyfile)"
   ]
  },
  {
   "cell_type": "code",
   "execution_count": 3,
   "id": "d96c938d",
   "metadata": {},
   "outputs": [],
   "source": [
    "# First load datasets\n",
    "filename_pp = \"C:\\\\Users\\\\hsk21\\\\Desktop\\\\MLcourse\\\\github\\\\Seismic-Fault-Detection-using-Convolutional-Neural-Network\\\\Equinor Synthetic model\\\\Equinor Synthetic model\\\\issap20_Pp.sgy\"\n",
    "filename_ai = \"C:\\\\Users\\\\hsk21\\\\Desktop\\\\MLcourse\\\\github\\\\Seismic-Fault-Detection-using-Convolutional-Neural-Network\\\\Equinor Synthetic model\\\\Equinor Synthetic model\\\\issap20_Fault.sgy\"\n",
    "filename_fault = \"C:\\\\Users\\\\hsk21\\\\Desktop\\\\MLcourse\\\\github\\\\Seismic-Fault-Detection-using-Convolutional-Neural-Network\\\\Equinor Synthetic model\\\\Equinor Synthetic model\\\\issap20_Fault.sgy\"\n"
   ]
  },
  {
   "cell_type": "code",
   "execution_count": 4,
   "id": "47a4b41b",
   "metadata": {},
   "outputs": [],
   "source": [
    "# Note: the the xline header info location is at segyio.su.cdpx [181]\n",
    "def segy2numpy(filename: str) -> np.array:\n",
    "    with segyio.open(filename, xline=181) as segyfile:\n",
    "        return segyio.tools.cube(segyfile)\n",
    "\n",
    "seismic = segy2numpy(filename_pp)\n",
    "ai = segy2numpy(filename_ai)\n",
    "fault = segy2numpy(filename_fault)\n",
    "# f\"Number of inlines: {seismic.shape[0]}, crosslines: {seismic.shape[1]}, samples: {seismic.shape[2]}\""
   ]
  },
  {
   "cell_type": "code",
   "execution_count": 5,
   "id": "a4e498cb",
   "metadata": {},
   "outputs": [],
   "source": [
    "def preprocess_seismic_data(seismic, fault):\n",
    "    \"\"\"\n",
    "    Normalize seismic data and ensure faults are binary.\n",
    "    \"\"\"\n",
    "    seismic = (seismic - np.min(seismic)) / (np.max(seismic) - np.min(seismic))\n",
    "    fault = (fault > 0).astype(float)\n",
    "    return seismic, fault"
   ]
  },
  {
   "cell_type": "code",
   "execution_count": 6,
   "id": "56f6fe87",
   "metadata": {},
   "outputs": [],
   "source": [
    "\n",
    "# --- Step 2: Dataset ---\n",
    "class SeismicDataset(Dataset):\n",
    "    def __init__(self, seismic, fault):\n",
    "        self.seismic = seismic\n",
    "        self.fault = fault\n",
    "\n",
    "    def __len__(self):\n",
    "        return self.seismic.shape[0]\n",
    "\n",
    "    def __getitem__(self, idx):\n",
    "        seismic_sample = self.seismic[idx]\n",
    "        fault_sample = self.fault[idx]\n",
    "        return (\n",
    "            torch.tensor(seismic_sample, dtype=torch.float32).unsqueeze(0),\n",
    "            torch.tensor(fault_sample, dtype=torch.float32).unsqueeze(0),\n",
    "        )"
   ]
  },
  {
   "cell_type": "code",
   "execution_count": 7,
   "id": "92f0dbe8",
   "metadata": {},
   "outputs": [],
   "source": [
    "# --- Step 3: UNet Model ---\n",
    "class UNetWithFeatureExtraction(nn.Module):\n",
    "    def __init__(self, in_channels=1, out_channels=1):\n",
    "        super(UNetWithFeatureExtraction, self).__init__()\n",
    "        self.encoder = nn.Sequential(\n",
    "            nn.Conv2d(in_channels, 64, kernel_size=3, stride=1, padding=1),\n",
    "            nn.ReLU(),\n",
    "            nn.Conv2d(64, 128, kernel_size=3, stride=1, padding=1),\n",
    "            nn.ReLU(),\n",
    "            nn.MaxPool2d(kernel_size=2),\n",
    "        )\n",
    "        self.decoder = nn.Sequential(\n",
    "            nn.ConvTranspose2d(128, 64, kernel_size=2, stride=2),\n",
    "            nn.ReLU(),\n",
    "            nn.Conv2d(64, out_channels, kernel_size=3, stride=1, padding=1),\n",
    "            nn.Sigmoid(),\n",
    "        )\n",
    "\n",
    "    def forward(self, x):\n",
    "        encoded = self.encoder(x)\n",
    "        decoded = self.decoder(encoded)\n",
    "        return decoded, encoded"
   ]
  },
  {
   "cell_type": "code",
   "execution_count": 8,
   "id": "abc19063",
   "metadata": {},
   "outputs": [],
   "source": [
    "import torch.nn.functional as F\n",
    "\n",
    "# --- Updated Train UNet Function ---\n",
    "def train_unet(model, train_loader, optimizer, criterion, device, n_epochs=10):\n",
    "    model.train()\n",
    "    for epoch in range(n_epochs):\n",
    "        epoch_loss = 0\n",
    "        for seismic, fault in train_loader:\n",
    "            seismic, fault = seismic.to(device), fault.to(device)\n",
    "\n",
    "            optimizer.zero_grad()\n",
    "            outputs, _ = model(seismic)  # Get segmentation and features\n",
    "\n",
    "            # Adjust target size to match model output\n",
    "            pad_h = outputs.shape[2] - fault.shape[2]\n",
    "            pad_w = outputs.shape[3] - fault.shape[3]\n",
    "            fault = F.pad(fault, (0, pad_w, 0, pad_h))\n",
    "\n",
    "            loss = criterion(outputs, fault)\n",
    "\n",
    "            loss.backward()\n",
    "            optimizer.step()\n",
    "            epoch_loss += loss.item()\n",
    "\n",
    "        print(f\"Epoch {epoch + 1}/{n_epochs}, Loss: {epoch_loss / len(train_loader):.4f}\")\n"
   ]
  },
  {
   "cell_type": "code",
   "execution_count": 9,
   "id": "5fc23891",
   "metadata": {},
   "outputs": [],
   "source": [
    "def extract_features_and_labels(seismic, fault):\n",
    "    \"\"\"\n",
    "    Extracts features and labels with consistent lengths for SVM.\n",
    "    Features are flattened seismic samples, and labels are corresponding binary fault indicators.\n",
    "    \"\"\"\n",
    "    # Ensure spatial dimensions match\n",
    "    if seismic.shape != fault.shape:\n",
    "        raise ValueError(f\"Seismic and fault dimensions do not match: {seismic.shape} vs {fault.shape}\")\n",
    "\n",
    "    # Flatten spatial dimensions for pixel-wise classification\n",
    "    features = seismic.reshape(-1, seismic.shape[-1])  # Shape: (num_samples * height * width, depth)\n",
    "    labels = fault.flatten()  # Shape: (num_samples * height * width, )\n",
    "\n",
    "    # Ensure feature-label consistency\n",
    "    if len(features) != len(labels):\n",
    "        raise ValueError(f\"Features and labels have inconsistent lengths: {len(features)} vs {len(labels)}\")\n",
    "\n",
    "    return features, labels\n"
   ]
  },
  {
   "cell_type": "code",
   "execution_count": 10,
   "id": "0d2cdd41",
   "metadata": {},
   "outputs": [],
   "source": [
    "from sklearn.preprocessing import StandardScaler\n",
    "\n",
    "def preprocess_for_svm(features, labels, threshold=0.5):\n",
    "    \"\"\"\n",
    "    Preprocesses features by scaling and converts labels to binary format.\n",
    "    \"\"\"\n",
    "    # Scale features\n",
    "    scaler = StandardScaler()\n",
    "    features_scaled = scaler.fit_transform(features)\n",
    "\n",
    "    # Binarize labels\n",
    "    labels_binary = (labels > threshold).astype(int)\n",
    "\n",
    "    # Ensure feature-label consistency\n",
    "    if len(features_scaled) != len(labels_binary):\n",
    "        raise ValueError(f\"Features and labels have inconsistent lengths: {len(features_scaled)} vs {len(labels_binary)}\")\n",
    "\n",
    "    return features_scaled, labels_binary, scaler\n"
   ]
  },
  {
   "cell_type": "code",
   "execution_count": 11,
   "id": "f8f87407",
   "metadata": {},
   "outputs": [],
   "source": [
    "from sklearn.svm import SVC\n",
    "from sklearn.model_selection import train_test_split\n",
    "\n",
    "def train_svm(features, labels):\n",
    "    \"\"\"\n",
    "    Trains an SVM classifier on the extracted features and binary labels.\n",
    "    \"\"\"\n",
    "    # Split data into training and testing sets\n",
    "    X_train, X_test, y_train, y_test = train_test_split(features, labels, test_size=0.2, random_state=42)\n",
    "\n",
    "    # Train SVM\n",
    "    svm_model = SVC(kernel=\"rbf\", C=1, gamma=\"scale\")\n",
    "    svm_model.fit(X_train, y_train)\n",
    "\n",
    "    # Predict on test set\n",
    "    y_pred = svm_model.predict(X_test)\n",
    "\n",
    "    return svm_model, X_test, y_test, y_pred\n"
   ]
  },
  {
   "cell_type": "code",
   "execution_count": 12,
   "id": "c2b7e5c2",
   "metadata": {},
   "outputs": [],
   "source": [
    "def visualize_results(test_seismic, test_fault, predictions):\n",
    "    \"\"\"\n",
    "    Visualizes seismic data, fault ground truth, and predicted faults.\n",
    "    \"\"\"\n",
    "    for i in range(min(3, test_seismic.shape[0])):  # Visualize up to 3 examples\n",
    "        plt.figure(figsize=(12, 4))\n",
    "\n",
    "        # Original Seismic Data\n",
    "        plt.subplot(1, 3, 1)\n",
    "        plt.title(\"Seismic Data\")\n",
    "        plt.imshow(test_seismic[i].T, cmap=\"seismic\")\n",
    "        plt.colorbar()\n",
    "\n",
    "        # Ground Truth Fault\n",
    "        plt.subplot(1, 3, 2)\n",
    "        plt.title(\"Ground Truth Fault\")\n",
    "        plt.imshow(test_fault[i].T, cmap=\"gray\")\n",
    "        plt.colorbar()\n",
    "\n",
    "        # Predicted Fault\n",
    "        plt.subplot(1, 3, 3)\n",
    "        plt.title(\"Predicted Fault\")\n",
    "        plt.imshow(predictions[i].reshape(test_fault[i].shape).T, cmap=\"gray\")\n",
    "        plt.colorbar()\n",
    "\n",
    "        plt.show()\n"
   ]
  },
  {
   "cell_type": "code",
   "execution_count": 13,
   "id": "f16b11af",
   "metadata": {},
   "outputs": [
    {
     "name": "stdout",
     "output_type": "stream",
     "text": [
      "Epoch 1/10, Loss: 0.5132\n",
      "Epoch 2/10, Loss: 0.1042\n",
      "Epoch 3/10, Loss: 0.1208\n",
      "Epoch 4/10, Loss: 0.0843\n",
      "Epoch 5/10, Loss: 0.0802\n",
      "Epoch 6/10, Loss: 0.0764\n",
      "Epoch 7/10, Loss: 0.0758\n",
      "Epoch 8/10, Loss: 0.0747\n",
      "Epoch 9/10, Loss: 0.0743\n",
      "Epoch 10/10, Loss: 0.0741\n"
     ]
    }
   ],
   "source": [
    "seismic, fault = preprocess_seismic_data(seismic, fault)\n",
    "\n",
    "# Split data\n",
    "train_seismic, test_seismic, train_fault, test_fault = train_test_split(\n",
    "    seismic, fault, test_size=0.2, random_state=42\n",
    ")\n",
    "\n",
    "# Create datasets and loaders\n",
    "train_dataset = SeismicDataset(train_seismic, train_fault)\n",
    "test_dataset = SeismicDataset(test_seismic, test_fault)\n",
    "train_loader = DataLoader(train_dataset, batch_size=8, shuffle=True)\n",
    "test_loader = DataLoader(test_dataset, batch_size=8, shuffle=False)\n",
    "\n",
    "# Train UNet\n",
    "device = torch.device(\"cuda\" if torch.cuda.is_available() else \"cpu\")\n",
    "model = UNetWithFeatureExtraction().to(device)\n",
    "criterion = nn.BCELoss()\n",
    "optimizer = torch.optim.Adam(model.parameters(), lr=0.001)\n",
    "train_unet(model, train_loader, optimizer, criterion, device, n_epochs=10)\n",
    "\n"
   ]
  },
  {
   "cell_type": "code",
   "execution_count": 14,
   "id": "195a7a18",
   "metadata": {},
   "outputs": [
    {
     "ename": "ValueError",
     "evalue": "Features and labels have inconsistent lengths: 59489 vs 44676239",
     "output_type": "error",
     "traceback": [
      "\u001b[1;31m---------------------------------------------------------------------------\u001b[0m",
      "\u001b[1;31mValueError\u001b[0m                                Traceback (most recent call last)",
      "Cell \u001b[1;32mIn[14], line 2\u001b[0m\n\u001b[0;32m      1\u001b[0m \u001b[38;5;66;03m# Extract features for SVM\u001b[39;00m\n\u001b[1;32m----> 2\u001b[0m features, labels \u001b[38;5;241m=\u001b[39m \u001b[43mextract_features_and_labels\u001b[49m\u001b[43m(\u001b[49m\u001b[43mseismic\u001b[49m\u001b[43m,\u001b[49m\u001b[43m \u001b[49m\u001b[43mfault\u001b[49m\u001b[43m)\u001b[49m\n",
      "Cell \u001b[1;32mIn[9], line 16\u001b[0m, in \u001b[0;36mextract_features_and_labels\u001b[1;34m(seismic, fault)\u001b[0m\n\u001b[0;32m     14\u001b[0m \u001b[38;5;66;03m# Ensure feature-label consistency\u001b[39;00m\n\u001b[0;32m     15\u001b[0m \u001b[38;5;28;01mif\u001b[39;00m \u001b[38;5;28mlen\u001b[39m(features) \u001b[38;5;241m!=\u001b[39m \u001b[38;5;28mlen\u001b[39m(labels):\n\u001b[1;32m---> 16\u001b[0m     \u001b[38;5;28;01mraise\u001b[39;00m \u001b[38;5;167;01mValueError\u001b[39;00m(\u001b[38;5;124mf\u001b[39m\u001b[38;5;124m\"\u001b[39m\u001b[38;5;124mFeatures and labels have inconsistent lengths: \u001b[39m\u001b[38;5;132;01m{\u001b[39;00m\u001b[38;5;28mlen\u001b[39m(features)\u001b[38;5;132;01m}\u001b[39;00m\u001b[38;5;124m vs \u001b[39m\u001b[38;5;132;01m{\u001b[39;00m\u001b[38;5;28mlen\u001b[39m(labels)\u001b[38;5;132;01m}\u001b[39;00m\u001b[38;5;124m\"\u001b[39m)\n\u001b[0;32m     18\u001b[0m \u001b[38;5;28;01mreturn\u001b[39;00m features, labels\n",
      "\u001b[1;31mValueError\u001b[0m: Features and labels have inconsistent lengths: 59489 vs 44676239"
     ]
    }
   ],
   "source": [
    "# Extract features for SVM\n",
    "features, labels = extract_features_and_labels(seismic, fault)"
   ]
  },
  {
   "cell_type": "code",
   "execution_count": null,
   "id": "fdf2ff6f",
   "metadata": {},
   "outputs": [],
   "source": [
    "# Preprocess features for SVM\n",
    "features_scaled, labels_binary, scaler = preprocess_for_svm(features, labels, threshold=0.5)\n"
   ]
  },
  {
   "cell_type": "code",
   "execution_count": null,
   "id": "59c69eaa",
   "metadata": {},
   "outputs": [],
   "source": [
    "# Train SVM\n",
    "svm_model, X_test, y_test, y_pred = train_svm(features_scaled, labels_binary)"
   ]
  },
  {
   "cell_type": "code",
   "execution_count": null,
   "id": "f050f03f",
   "metadata": {},
   "outputs": [],
   "source": [
    "\n",
    "# Visualize results\n",
    "visualize_results(test_seismic, test_fault, y_pred.reshape(test_fault.shape))"
   ]
  }
 ],
 "metadata": {
  "kernelspec": {
   "display_name": "Python 3",
   "language": "python",
   "name": "python3"
  },
  "language_info": {
   "codemirror_mode": {
    "name": "ipython",
    "version": 3
   },
   "file_extension": ".py",
   "mimetype": "text/x-python",
   "name": "python",
   "nbconvert_exporter": "python",
   "pygments_lexer": "ipython3",
   "version": "3.9.7"
  }
 },
 "nbformat": 4,
 "nbformat_minor": 5
}
